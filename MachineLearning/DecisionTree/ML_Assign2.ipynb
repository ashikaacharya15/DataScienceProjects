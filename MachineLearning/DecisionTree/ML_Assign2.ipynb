{
 "cells": [
  {
   "cell_type": "markdown",
   "metadata": {},
   "source": [
    "## Assignment II \n",
    "### Fixed-Length Decision Tree \n",
    "\n",
    "### Ashika Prakash Acharya (axa190084) "
   ]
  },
  {
   "cell_type": "markdown",
   "metadata": {},
   "source": [
    "## Problem: \n",
    "### Implement a fixed-depth decision tree algorithm, that is, the input to the ID3 algorithm will include the training data and maximum depth of the tree to be learned. The code skeleton as well as data sets for this assignment can be found on e-Learning."
   ]
  },
  {
   "cell_type": "markdown",
   "metadata": {},
   "source": [
    "#### a. (Autograder Score, 20 points) \n",
    "#### Your code will be auto-graded and cross-checked with other submissions. The auto-grader will evaluate your code on several different data sets to perform a sanity check. In order to ensure that your code passes the auto-grader, ensure that you do not modify the function headers. In addition, do not hard code any values (such as y = 0 and 1) and make your code as general as possible."
   ]
  },
  {
   "cell_type": "code",
   "execution_count": 68,
   "metadata": {},
   "outputs": [],
   "source": [
    "# decision_tree.py\n",
    "# ---------\n",
    "# Licensing Information:  You are free to use or extend these projects for\n",
    "# personal and educational purposes provided that (1) you do not distribute\n",
    "# or publish solutions, (2) you retain this notice, and (3) you provide clear\n",
    "# attribution to UT Dallas, including a link to http://cs.utdallas.edu.\n",
    "#\n",
    "# This file is part of Homework for CS6375: Machine Learning.\n",
    "# Gautam Kunapuli (gautam.kunapuli@utdallas.edu) jhnbv\n",
    "# Sriraam Natarajan (sriraam.natarajan@utdallas.edu), \n",
    "# Anjum Chida (anjum.chida@utdallas.edu)\n",
    "#\n",
    "#\n",
    "# INSTRUCTIONS:\n",
    "# ------------\n",
    "# 1. This file contains a skeleton for implementing the ID3 algorithm for\n",
    "# Decision Trees. Insert your code into the various functions that have the\n",
    "# comment \"INSERT YOUR CODE HERE\".\n",
    "#\n",
    "# 2. Do NOT modify the classes or functions that have the comment \"DO NOT\n",
    "# MODIFY THIS FUNCTION\".\n",
    "#\n",
    "# 3. Do not modify the function headers for ANY of the functions.\n",
    "#\n",
    "# 4. You may add any other helper functions you feel you may need to print,\n",
    "# visualize, test, or save the data and results. However, you MAY NOT utilize\n",
    "# the package scikit-learn OR ANY OTHER machine learning package in THIS file."
   ]
  },
  {
   "cell_type": "code",
   "execution_count": 140,
   "metadata": {},
   "outputs": [],
   "source": [
    "import numpy as np\n",
    "import statistics as stats\n",
    "import os\n",
    "import graphviz\n",
    "import collections\n",
    "import operator"
   ]
  },
  {
   "cell_type": "code",
   "execution_count": 3,
   "metadata": {},
   "outputs": [],
   "source": [
    "def getAttributeValuePairs(x, n):\n",
    "    \"\"\"\n",
    "    Return list of AttributeValue Pairs in the below format\n",
    "    [(x1, a),\n",
    "     (x1, b),\n",
    "     (x1, c),\n",
    "     (x2, d),\n",
    "     (x2, e)]\n",
    "    \"\"\"\n",
    "    pairs = []\n",
    "    for i in range(0, n):\n",
    "        values = np.unique(x[:, i])\n",
    "        for value in values:\n",
    "            tuple = (i+1, value)\n",
    "            pairs.append(tuple)\n",
    "    return pairs  "
   ]
  },
  {
   "cell_type": "code",
   "execution_count": 4,
   "metadata": {},
   "outputs": [],
   "source": [
    "def partition(x):\n",
    "    \"\"\"\n",
    "    Partition the column vector x into subsets indexed by its unique values (v1, ... vk)\n",
    "\n",
    "    Returns a dictionary of the form\n",
    "    { v1: indices of x == v1,\n",
    "      v2: indices of x == v2,\n",
    "      ...\n",
    "      vk: indices of x == vk }, where [v1, ... vk] are all the unique values in the vector z.\n",
    "    \"\"\"\n",
    "    \n",
    "    unique = np.unique(x)\n",
    "    dict = {key: [] for key in unique}\n",
    "    for i in range(0, np.size(x, 0)):\n",
    "        index = dict[x[i]]\n",
    "        index.append(i)\n",
    "        dict[x[i]] = index   \n",
    "    return dict"
   ]
  },
  {
   "cell_type": "code",
   "execution_count": 5,
   "metadata": {},
   "outputs": [],
   "source": [
    "def entropy(y):\n",
    "    \"\"\"\n",
    "    Compute the entropy of a vector y by considering the counts of the unique values (v1, ... vk), in z\n",
    "\n",
    "    Returns the entropy of z: H(z) = p(z=v1) log2(p(z=v1)) + ... + p(z=vk) log2(p(z=vk))\n",
    "    \"\"\"\n",
    "    \n",
    "    counter = collections.Counter(y)\n",
    "    total = 0\n",
    "    entropy = 0\n",
    "    for i in counter:\n",
    "        total += counter[i]\n",
    "    for i in counter:    \n",
    "        entropy += counter[i]/total * np.log2(counter[i]/total)\n",
    "    return -entropy"
   ]
  },
  {
   "cell_type": "code",
   "execution_count": 6,
   "metadata": {},
   "outputs": [],
   "source": [
    "def mutual_information(x, y):\n",
    "    \"\"\"\n",
    "    Compute the mutual information between a data column (x) and the labels (y). The data column is a single attribute\n",
    "    over all the examples (n x 1). Mutual information is the difference between the entropy BEFORE the split set, and\n",
    "    the weighted-average entropy of EACH possible split.\n",
    "\n",
    "    Returns the mutual information: I(x, y) = H(y) - H(y | x)\n",
    "    \"\"\"\n",
    "    \n",
    "    dict = {}\n",
    "    S = entropy(y)\n",
    "    subsets = partition(x)\n",
    "    split_value = 0\n",
    "    y_len = np.size(y, 0)\n",
    "    for set in subsets:\n",
    "        indices = subsets[set]\n",
    "        if len(indices) != y_len:\n",
    "            split_value = (len(indices) / y_len * entropy(y[indices])) + ((y_len - len(indices)) / y_len * entropy(np.delete(y, indices)))      \n",
    "            MI = S - split_value\n",
    "            dict[set] = MI\n",
    "        else:\n",
    "            dict[set] = 0\n",
    "    return dict"
   ]
  },
  {
   "cell_type": "code",
   "execution_count": 159,
   "metadata": {},
   "outputs": [],
   "source": [
    " def id3(x, y, attribute_value_pairs=None, depth=0, max_depth=5):\n",
    "    \"\"\"\n",
    "    Implements the classical ID3 algorithm given training data (x), training labels (y) and an array of\n",
    "    attribute-value pairs to consider. This is a recursive algorithm that depends on three termination conditions\n",
    "        1. If the entire set of labels (y) is pure (all y = only 0 or only 1), then return that label\n",
    "        2. If the set of attribute-value pairs is empty (there is nothing to split on), then return the most common\n",
    "           value of y (majority label)\n",
    "        3. If the max_depth is reached (pre-pruning bias), then return the most common value of y (majority label)\n",
    "    Otherwise the algorithm selects the next best attribute-value pair using INFORMATION GAIN as the splitting criterion\n",
    "    and partitions the data set based on the values of that attribute before the next recursive call to ID3.\n",
    "\n",
    "    The tree we learn is a BINARY tree, which means that every node has only two branches. The splitting criterion has\n",
    "    to be chosen from among all possible attribute-value pairs. That is, for a problem with two features/attributes x1\n",
    "    (taking values a, b, c) and x2 (taking values d, e), the initial attribute value pair list is a list of all pairs of\n",
    "    attributes with their corresponding values:\n",
    "    [(x1, a),\n",
    "     (x1, b),\n",
    "     (x1, c),\n",
    "     (x2, d),\n",
    "     (x2, e)]\n",
    "     If we select (x2, d) as the best attribute-value pair, then the new decision node becomes: [ (x2 == d)? ] and\n",
    "     the attribute-value pair (x2, d) is removed from the list of attribute_value_pairs.\n",
    "\n",
    "    The tree is stored as a nested dictionary, where each entry is of the form\n",
    "                    (attribute_index, attribute_value, True/False): subtree\n",
    "    * The (attribute_index, attribute_value) determines the splitting criterion of the current node. For example, (4, 2)\n",
    "    indicates that we test if (x4 == 2) at the current node.\n",
    "    * The subtree itself can be nested dictionary, or a single label (leaf node).\n",
    "    * Leaf nodes are (majority) class labels\n",
    "\n",
    "    Returns a decision tree represented as a nested dictionary, for example\n",
    "    {(4, 1, False):\n",
    "        {(0, 1, False):\n",
    "            {(1, 1, False): 1,\n",
    "             (1, 1, True): 0},\n",
    "         (0, 1, True):\n",
    "            {(1, 1, False): 0,\n",
    "             (1, 1, True): 1}},\n",
    "     (4, 1, True): 1}\n",
    "    \"\"\"\n",
    "    \n",
    "    feature_count = np.size(x, 1)\n",
    "    attribute_value_pairs = getAttributeValuePairs(x, feature_count)\n",
    "    \n",
    "    if depth == max_depth or len(attribute_value_pairs) == 0 or entropy(y) == 0:\n",
    "        rep = collections.Counter(y)\n",
    "        return rep.most_common(1)[0][0]\n",
    "    \n",
    "    info_gain = {}\n",
    "    for key, value in attribute_value_pairs: \n",
    "        gain = (key, value)\n",
    "        mi = mutual_information(x[:, key-1], y)\n",
    "        if value in mi:\n",
    "            info_gain[gain] = mi[value]\n",
    "        else:\n",
    "            info_gain[gain] = 0\n",
    "    \n",
    "    splitter = max(info_gain, key=info_gain.get)\n",
    "    attribute_value_pairs.remove(splitter)\n",
    "    \n",
    "    tree = {}\n",
    "    col = int(splitter[0]) - 1\n",
    "    value = int(splitter[1])\n",
    "    \n",
    "    indices = partition(x[:, col])\n",
    "    \n",
    "    tree[splitter + (True, )] = id3(x[indices[value]], y[indices[value]], attribute_value_pairs, depth+1, max_depth)\n",
    "\n",
    "    tree[splitter + (False, )] = id3(np.delete(x, indices[value], 0), np.delete(y, indices[value]), attribute_value_pairs, depth+1, max_depth)\n",
    "\n",
    "    return tree\n",
    "    "
   ]
  },
  {
   "cell_type": "code",
   "execution_count": 8,
   "metadata": {},
   "outputs": [],
   "source": [
    "def pretty_print(tree, depth=0):\n",
    "    \"\"\"\n",
    "    Pretty prints the decision tree to the console. Use print(tree) to print the raw nested dictionary representation\n",
    "    DO NOT MODIFY THIS FUNCTION!\n",
    "    \"\"\"\n",
    "    \n",
    "    if depth == 0:\n",
    "        print('TREE')\n",
    "\n",
    "    for index, split_criterion in enumerate(tree):\n",
    "        sub_trees = tree[split_criterion]\n",
    "\n",
    "        # Print the current node: split criterion\n",
    "        print('|\\t' * depth, end='')\n",
    "        print('+-- [SPLIT: x{0} = {1} {2}]'.format(split_criterion[0], split_criterion[1], split_criterion[2]))\n",
    "\n",
    "        # Print the children\n",
    "        if type(sub_trees) is dict:\n",
    "            pretty_print(sub_trees, depth + 1)\n",
    "        else:\n",
    "            print('|\\t' * (depth + 1), end='')\n",
    "            print('+-- [LABEL = {0}]'.format(sub_trees))\n"
   ]
  },
  {
   "cell_type": "code",
   "execution_count": 9,
   "metadata": {},
   "outputs": [],
   "source": [
    "def to_graphviz(tree, dot_string='', uid=-1, depth=0):\n",
    "    \"\"\"\n",
    "    Converts a tree to DOT format for use with visualize/GraphViz\n",
    "    DO NOT MODIFY THIS FUNCTION!\n",
    "    \"\"\"\n",
    "\n",
    "    uid += 1       # Running index of node ids across recursion\n",
    "    node_id = uid  # Node id of this node\n",
    "\n",
    "    if depth == 0:\n",
    "        dot_string += 'digraph TREE {\\n'\n",
    "\n",
    "    for split_criterion in tree:\n",
    "        sub_trees = tree[split_criterion]\n",
    "        attribute_index = split_criterion[0]\n",
    "        attribute_value = split_criterion[1]\n",
    "        split_decision = split_criterion[2]\n",
    "\n",
    "        if not split_decision:\n",
    "            # Alphabetically, False comes first\n",
    "            dot_string += '    node{0} [label=\"x{1} = {2}?\"];\\n'.format(node_id, attribute_index, attribute_value)\n",
    "\n",
    "        if type(sub_trees) is dict:\n",
    "            if not split_decision:\n",
    "                dot_string, right_child, uid = to_graphviz(sub_trees, dot_string=dot_string, uid=uid, depth=depth + 1)\n",
    "                dot_string += '    node{0} -> node{1} [label=\"False\"];\\n'.format(node_id, right_child)\n",
    "            else:\n",
    "                dot_string, left_child, uid = to_graphviz(sub_trees, dot_string=dot_string, uid=uid, depth=depth + 1)\n",
    "                dot_string += '    node{0} -> node{1} [label=\"True\"];\\n'.format(node_id, left_child)\n",
    "\n",
    "        else:\n",
    "            uid += 1\n",
    "            dot_string += '    node{0} [label=\"y = {1}\"];\\n'.format(uid, sub_trees)\n",
    "            if not split_decision:\n",
    "                dot_string += '    node{0} -> node{1} [label=\"False\"];\\n'.format(node_id, uid)\n",
    "            else:\n",
    "                dot_string += '    node{0} -> node{1} [label=\"True\"];\\n'.format(node_id, uid)\n",
    "\n",
    "    if depth == 0:\n",
    "        dot_string += '}\\n'\n",
    "        return dot_string\n",
    "    else:\n",
    "        return dot_string, node_id, uid"
   ]
  },
  {
   "cell_type": "code",
   "execution_count": 10,
   "metadata": {},
   "outputs": [],
   "source": [
    "def render_dot_file(dot_string, save_file, image_format='png'):\n",
    "    \"\"\"\n",
    "    Uses GraphViz to render a dot file. The dot file can be generated using\n",
    "        * sklearn.tree.export_graphviz()' for decision trees produced by scikit-learn\n",
    "        * to_graphviz() (function is in this file) for decision trees produced by  your code.\n",
    "    DO NOT MODIFY THIS FUNCTION!\n",
    "    \"\"\"\n",
    "    \n",
    "    if type(dot_string).__name__ != 'str':\n",
    "        raise TypeError('visualize() requires a string representation of a decision tree.\\nUse tree.export_graphviz()'\n",
    "                        'for decision trees produced by scikit-learn and to_graphviz() for decision trees produced by'\n",
    "                        'your code.\\n')\n",
    "\n",
    "    # Set path to your GraphViz executable here\n",
    "    os.environ[\"PATH\"] += os.pathsep + 'C:/Program Files (x86)/Graphviz2.38/bin/'\n",
    "    graph = graphviz.Source(dot_string)\n",
    "    graph.format = image_format\n",
    "    graph.render(save_file, view=True)\n",
    "    "
   ]
  },
  {
   "cell_type": "code",
   "execution_count": 144,
   "metadata": {},
   "outputs": [],
   "source": [
    "def predict_example(x, tree):\n",
    "    \"\"\"\n",
    "    Predicts the classification label for a single example x using tree by recursively descending the tree until\n",
    "    a label/leaf node is reached.\n",
    "\n",
    "    Returns the predicted label of x according to tree\n",
    "    \"\"\"\n",
    "    \n",
    "    for k, v in tree.items():\n",
    "        if x[k[0]-1] == k[1] and k[2] == True:\n",
    "            if isinstance(v, dict):\n",
    "                return predict_example(x, v)\n",
    "            else:\n",
    "                return v\n",
    "        elif x[k[0]-1] != k[1] and k[2] == False:\n",
    "            if isinstance(v, dict):\n",
    "                return predict_example(x, v)\n",
    "            else:\n",
    "                return v      \n"
   ]
  },
  {
   "cell_type": "code",
   "execution_count": 12,
   "metadata": {},
   "outputs": [],
   "source": [
    "def compute_error(y_true, y_pred):\n",
    "    \"\"\"\n",
    "    Computes the average error between the true labels (y_true) and the predicted labels (y_pred)\n",
    "\n",
    "    Returns the error = (1/n) * sum(y_true != y_pred)\n",
    "    \"\"\"\n",
    "            \n",
    "    return (sum(y_true != y_pred) * (1/len(y_true)))\n",
    "\n",
    "    raise Exception('Function not yet implemented!')"
   ]
  },
  {
   "cell_type": "code",
   "execution_count": 209,
   "metadata": {},
   "outputs": [
    {
     "name": "stdout",
     "output_type": "stream",
     "text": [
      "TREE\n",
      "+-- [SPLIT: x5 = 1 True]\n",
      "|\t+-- [LABEL = 1]\n",
      "+-- [SPLIT: x5 = 1 False]\n",
      "|\t+-- [SPLIT: x1 = 1 True]\n",
      "|\t|\t+-- [SPLIT: x2 = 1 True]\n",
      "|\t|\t|\t+-- [LABEL = 1]\n",
      "|\t|\t+-- [SPLIT: x2 = 1 False]\n",
      "|\t|\t|\t+-- [LABEL = 0]\n",
      "|\t+-- [SPLIT: x1 = 1 False]\n",
      "|\t|\t+-- [SPLIT: x2 = 1 True]\n",
      "|\t|\t|\t+-- [LABEL = 0]\n",
      "|\t|\t+-- [SPLIT: x2 = 1 False]\n",
      "|\t|\t|\t+-- [LABEL = 1]\n",
      "Test Error = 16.67%.\n"
     ]
    }
   ],
   "source": [
    "if __name__ == '__main__':\n",
    "    # Load the training data\n",
    "    M = np.genfromtxt('./monks-1.train', missing_values=0, skip_header=0, delimiter=',', dtype=int)\n",
    "    ytrn = M[:, 0]\n",
    "    Xtrn = M[:, 1:]\n",
    "\n",
    "    # Load the test data\n",
    "    M = np.genfromtxt('./monks-1.test', missing_values=0, skip_header=0, delimiter=',', dtype=int)\n",
    "    ytst = M[:, 0]\n",
    "    Xtst = M[:, 1:]\n",
    "\n",
    "    # Learn a decision tree of depth 3\n",
    "    \n",
    "    decision_tree = id3(Xtrn, ytrn, max_depth=3)\n",
    "\n",
    "    # Pretty print it to console\n",
    "    pretty_print(decision_tree)\n",
    "\n",
    "    # Visualize the tree and save it as a PNG image\n",
    "    dot_str = to_graphviz(decision_tree)\n",
    "    render_dot_file(dot_str, './my_learned_tree')\n",
    "\n",
    "    # Compute the test error\n",
    "    y_pred = [predict_example(x, decision_tree) for x in Xtst]\n",
    "    tst_err = compute_error(ytst, y_pred)\n",
    "\n",
    "    print('Test Error = {0:4.2f}%.'.format(tst_err * 100))"
   ]
  },
  {
   "cell_type": "markdown",
   "metadata": {},
   "source": [
    "#### b. (Learning Curves, 20 points) \n",
    "#### For depth = 1, ..., 10, learn decision trees and compute the average training and test errors on each of the three MONK’s problems. Make three plots, one for each of the MONK’s problem sets, plotting training and testing error curves together for each problem, with tree depth on the x-axis and error on the y-axis."
   ]
  },
  {
   "cell_type": "code",
   "execution_count": 223,
   "metadata": {
    "scrolled": false
   },
   "outputs": [
    {
     "name": "stdout",
     "output_type": "stream",
     "text": [
      "mean of training error for monks- 1  dataset ::  9.111999999999998\n",
      "mean of training error for monks- 2  dataset ::  16.924\n",
      "mean of training error for monks- 3  dataset ::  4.673\n",
      "-----\n",
      "mean of testing error for monks- 1  dataset ::  14.538\n",
      "mean of testing error for monks- 2  dataset ::  24.886000000000003\n",
      "mean of testing error for monks- 3  dataset ::  9.308\n"
     ]
    }
   ],
   "source": [
    "if __name__ == '__main__':\n",
    "    \n",
    "    x_training_data = {}\n",
    "    y_training_data = {}\n",
    "    \n",
    "    x_testing_data = {}\n",
    "    y_testing_data = {}\n",
    "    \n",
    "    # Load the training data\n",
    "    training_error = {}\n",
    "    testing_error = {}\n",
    "    \n",
    "    for k in range(1,4):\n",
    "        \n",
    "        M = np.genfromtxt('./monks-'+str(k)+'.train', missing_values=0, skip_header=0, delimiter=',', dtype=int)\n",
    "        y_training_data[k] = M[:, 0]\n",
    "        x_training_data[k] = M[:, 1:]\n",
    "            \n",
    "        M = np.genfromtxt('./monks-'+str(k)+'.test', missing_values=0, skip_header=0, delimiter=',', dtype=int)\n",
    "        y_testing_data[k] = M[:, 0]\n",
    "        x_testing_data[k] = M[:, 1:]\n",
    "        \n",
    "        tr_error = {}\n",
    "        te_error = {}\n",
    "        \n",
    "        for i in range(1,11):\n",
    "            decision_tree = id3(x_training_data[k], y_training_data[k], max_depth=i)\n",
    "            \n",
    "            y_train_pred = [predict_example(x, decision_tree) for x in x_training_data[k]]\n",
    "            tr_error[i] = round(compute_error(y_training_data[k], y_train_pred) * 100, 2)\n",
    "            \n",
    "            y_test_pred = [predict_example(x, decision_tree) for x in x_testing_data[k]]\n",
    "            te_error[i] = round(compute_error(y_testing_data[k], y_test_pred) * 100, 2)\n",
    "            \n",
    "        \n",
    "        training_error[k] = tr_error\n",
    "        testing_error[k] = te_error\n",
    "        \n",
    "    for key in training_error:\n",
    "        print(\"mean of training error for monks-\", key, \" dataset :: \", np.mean(list(training_error[key].values())))\n",
    "    print(\"-----\")\n",
    "    for key in testing_error:\n",
    "        print(\"mean of testing error for monks-\", key, \" dataset :: \", np.mean(list(testing_error[key].values())))"
   ]
  },
  {
   "cell_type": "code",
   "execution_count": 224,
   "metadata": {},
   "outputs": [
    {
     "data": {
      "text/plain": [
       "[0, 11, 0, 50]"
      ]
     },
     "execution_count": 224,
     "metadata": {},
     "output_type": "execute_result"
    },
    {
     "data": {
      "image/png": "[encoded data removed]",
      "text/plain": [
       "<Figure size 720x360 with 1 Axes>"
      ]
     },
     "metadata": {
      "needs_background": "light"
     },
     "output_type": "display_data"
    }
   ],
   "source": [
    "import matplotlib.pyplot as plt\n",
    "\n",
    "plt.figure(figsize=(10,5))\n",
    "plt.plot(list(training_error[1].keys()), list(training_error[1].values()), marker='o', color='green')\n",
    "plt.plot(list(testing_error[1].keys()), list(testing_error[1].values()), marker='o', color='red')\n",
    "\n",
    "plt.legend(['training-error', 'testing-error'], fontsize=14)\n",
    "plt.xlabel('Depth level', fontsize=16)\n",
    "plt.ylabel('Test error', fontsize=16)\n",
    "plt.axis([0, 11, 0, 50])"
   ]
  },
  {
   "cell_type": "code",
   "execution_count": 225,
   "metadata": {},
   "outputs": [
    {
     "data": {
      "text/plain": [
       "[0, 11, 0, 50]"
      ]
     },
     "execution_count": 225,
     "metadata": {},
     "output_type": "execute_result"
    },
    {
     "data": {
      "image/png": "[encoded data removed]",
      "text/plain": [
       "<Figure size 720x360 with 1 Axes>"
      ]
     },
     "metadata": {
      "needs_background": "light"
     },
     "output_type": "display_data"
    }
   ],
   "source": [
    "plt.figure(figsize=(10,5))\n",
    "plt.plot(list(training_error[2].keys()), list(training_error[2].values()), marker='o', color='blue')\n",
    "plt.plot(list(testing_error[2].keys()), list(testing_error[2].values()), marker='o', color='red')\n",
    "\n",
    "plt.legend(['training-error', 'testing-error'], fontsize=14)\n",
    "plt.xlabel('Depth level', fontsize=16)\n",
    "plt.ylabel('Test error', fontsize=16)\n",
    "plt.axis([0, 11, 0, 50])"
   ]
  },
  {
   "cell_type": "code",
   "execution_count": 226,
   "metadata": {},
   "outputs": [
    {
     "data": {
      "text/plain": [
       "[0, 11, 0, 50]"
      ]
     },
     "execution_count": 226,
     "metadata": {},
     "output_type": "execute_result"
    },
    {
     "data": {
      "image/png": "[encoded data removed]",
      "text/plain": [
       "<Figure size 720x360 with 1 Axes>"
      ]
     },
     "metadata": {
      "needs_background": "light"
     },
     "output_type": "display_data"
    }
   ],
   "source": [
    "plt.figure(figsize=(10,5))\n",
    "plt.plot(list(training_error[3].keys()), list(training_error[3].values()), marker='o', color='grey', linewidth=2)\n",
    "plt.plot(list(testing_error[3].keys()), list(testing_error[3].values()), marker='o', color='red')\n",
    "\n",
    "plt.legend(['training-error', 'testing-error'], fontsize=14)\n",
    "plt.xlabel('Depth level', fontsize=16)\n",
    "plt.ylabel('Test error', fontsize=16)\n",
    "plt.axis([0, 11, 0, 50])"
   ]
  },
  {
   "cell_type": "markdown",
   "metadata": {},
   "source": [
    "#### c. (Weak Learners, 20 points) \n",
    "#### For monks-1, report the visualized learned decision tree and the confusion matrix on the test set for depth = 1, 3, 5. You may use scikit-learns’s confusion matrix() function [2]."
   ]
  },
  {
   "cell_type": "code",
   "execution_count": 173,
   "metadata": {},
   "outputs": [],
   "source": [
    "def plot_conf_matrix(cm):\n",
    "    fig = plt.figure()\n",
    "    ax = fig.add_subplot(111)\n",
    "    cax = ax.matshow(cm)\n",
    "    fig.colorbar(cax)\n",
    "    ax.set_xticklabels([''] + [0, 1])\n",
    "    ax.set_yticklabels([''] + [0, 1])\n",
    "    plt.xlabel('Predicted')\n",
    "    plt.ylabel('True')\n",
    "    plt.show()"
   ]
  },
  {
   "cell_type": "code",
   "execution_count": 228,
   "metadata": {},
   "outputs": [
    {
     "name": "stdout",
     "output_type": "stream",
     "text": [
      "Confusion Matrix for Monks-1 dataset with depth  1\n",
      "[[216   0]\n",
      " [108 108]]\n"
     ]
    },
    {
     "data": {
      "image/png": "[encoded data removed]",
      "text/plain": [
       "<Figure size 432x288 with 2 Axes>"
      ]
     },
     "metadata": {
      "needs_background": "light"
     },
     "output_type": "display_data"
    },
    {
     "name": "stdout",
     "output_type": "stream",
     "text": [
      "=======================================================\n",
      "Confusion Matrix for Monks-1 dataset with depth  3\n",
      "[[144  72]\n",
      " [  0 216]]\n"
     ]
    },
    {
     "data": {
      "image/png": "[encoded data removed]",
      "text/plain": [
       "<Figure size 432x288 with 2 Axes>"
      ]
     },
     "metadata": {
      "needs_background": "light"
     },
     "output_type": "display_data"
    },
    {
     "name": "stdout",
     "output_type": "stream",
     "text": [
      "=======================================================\n",
      "Confusion Matrix for Monks-1 dataset with depth  5\n",
      "[[156  60]\n",
      " [ 12 204]]\n"
     ]
    },
    {
     "data": {
      "image/png": "[encoded data removed]",
      "text/plain": [
       "<Figure size 432x288 with 2 Axes>"
      ]
     },
     "metadata": {
      "needs_background": "light"
     },
     "output_type": "display_data"
    },
    {
     "name": "stdout",
     "output_type": "stream",
     "text": [
      "=======================================================\n"
     ]
    }
   ],
   "source": [
    "from sklearn.metrics import confusion_matrix\n",
    "\n",
    "for depth in [1,3,5]:\n",
    "    print(\"Confusion Matrix for Monks-1 dataset with depth \", depth)\n",
    "    \n",
    "    decision_tree = id3(x_training_data[1], y_training_data[1], max_depth=depth)\n",
    "    \n",
    "    dot_str = to_graphviz(decision_tree)\n",
    "    file_name = './my_learned_tree_monks_1_depth_' + str(depth)\n",
    "    render_dot_file(dot_str, file_name)\n",
    "    \n",
    "    y_pred = [predict_example(x, decision_tree) for x in x_testing_data[1]]\n",
    "    \n",
    "    cm = confusion_matrix(y_testing_data[1], y_pred, labels=[0, 1])\n",
    "    print(cm)\n",
    "    plot_conf_matrix(cm)\n",
    "    \n",
    "    print(\"=======================================================\")\n",
    "    "
   ]
  },
  {
   "cell_type": "markdown",
   "metadata": {},
   "source": [
    "#### d. (scikit-learn, 20 points) \n",
    "#### For monks-1, use scikit-learn’s DecisionTreeClassifier [3] to learn a decision tree using criterion=’entropy’ for depth = 1, 3, 5. You may use scikit-learn’s confusion matrix() function [2]."
   ]
  },
  {
   "cell_type": "code",
   "execution_count": 235,
   "metadata": {},
   "outputs": [
    {
     "name": "stdout",
     "output_type": "stream",
     "text": [
      "Confusion Matrix for Monks-1 dataset with depth  1\n",
      "[[216   0]\n",
      " [108 108]]\n"
     ]
    },
    {
     "data": {
      "image/png": "[encoded data removed]",
      "text/plain": [
       "<Figure size 432x288 with 2 Axes>"
      ]
     },
     "metadata": {
      "needs_background": "light"
     },
     "output_type": "display_data"
    },
    {
     "name": "stdout",
     "output_type": "stream",
     "text": [
      "=======================================================\n",
      "Confusion Matrix for Monks-1 dataset with depth  3\n",
      "[[144  72]\n",
      " [  0 216]]\n"
     ]
    },
    {
     "data": {
      "image/png": "[encoded data removed]",
      "text/plain": [
       "<Figure size 432x288 with 2 Axes>"
      ]
     },
     "metadata": {
      "needs_background": "light"
     },
     "output_type": "display_data"
    },
    {
     "name": "stdout",
     "output_type": "stream",
     "text": [
      "=======================================================\n",
      "Confusion Matrix for Monks-1 dataset with depth  5\n",
      "[[168  48]\n",
      " [ 24 192]]\n"
     ]
    },
    {
     "data": {
      "image/png": "[encoded data removed]",
      "text/plain": [
       "<Figure size 432x288 with 2 Axes>"
      ]
     },
     "metadata": {
      "needs_background": "light"
     },
     "output_type": "display_data"
    },
    {
     "name": "stdout",
     "output_type": "stream",
     "text": [
      "=======================================================\n"
     ]
    }
   ],
   "source": [
    "from sklearn.tree import DecisionTreeClassifier\n",
    "from sklearn.tree import export_graphviz\n",
    "\n",
    "for depth in [1,3,5]:\n",
    "    print(\"Confusion Matrix for Monks-1 dataset with depth \", depth)\n",
    "    \n",
    "    sk_tree = DecisionTreeClassifier(criterion=\"entropy\", splitter=\"best\", max_depth=depth)\n",
    "    \n",
    "    sk_tree = sk_tree.fit(x_training_data[1], y_training_data[1])\n",
    "    file = './sk_tree' + str(depth)\n",
    "    render_dot_file(export_graphviz(sk_tree), file)\n",
    "    \n",
    "    sk_y_pred = [sk_tree.predict(x.reshape(1, -1)) for x in x_testing_data[1]]\n",
    "    \n",
    "    cm2 = confusion_matrix(y_testing_data[1], sk_y_pred)\n",
    "    print(cm2)\n",
    "    \n",
    "    plot_conf_matrix(cm2)\n",
    "    print(\"=======================================================\")\n",
    "    "
   ]
  },
  {
   "cell_type": "markdown",
   "metadata": {},
   "source": [
    "#### e. (Other Data Sets, 20 points) \n",
    "#### Repeat steps (c) and (d) with your “own” data set and report the confusion matrices. You can use other data sets in the UCI repository."
   ]
  },
  {
   "cell_type": "code",
   "execution_count": 232,
   "metadata": {},
   "outputs": [
    {
     "name": "stdout",
     "output_type": "stream",
     "text": [
      "Confusion Matrix for SomerVilleHappiness Survey 2015 dataset with depth  1\n",
      "[[ 0 24]\n",
      " [ 2 17]]\n"
     ]
    },
    {
     "data": {
      "image/png": "[encoded data removed]",
      "text/plain": [
       "<Figure size 432x288 with 2 Axes>"
      ]
     },
     "metadata": {
      "needs_background": "light"
     },
     "output_type": "display_data"
    },
    {
     "name": "stdout",
     "output_type": "stream",
     "text": [
      "=======================================================\n",
      "Confusion Matrix for SomerVilleHappiness Survey 2015 dataset with depth  3\n",
      "[[ 3 21]\n",
      " [ 3 16]]\n"
     ]
    },
    {
     "data": {
      "image/png": "[encoded data removed]",
      "text/plain": [
       "<Figure size 432x288 with 2 Axes>"
      ]
     },
     "metadata": {
      "needs_background": "light"
     },
     "output_type": "display_data"
    },
    {
     "name": "stdout",
     "output_type": "stream",
     "text": [
      "=======================================================\n",
      "Confusion Matrix for SomerVilleHappiness Survey 2015 dataset with depth  5\n",
      "[[ 3 21]\n",
      " [ 5 14]]\n"
     ]
    },
    {
     "data": {
      "image/png": "[encoded data removed]",
      "text/plain": [
       "<Figure size 432x288 with 2 Axes>"
      ]
     },
     "metadata": {
      "needs_background": "light"
     },
     "output_type": "display_data"
    },
    {
     "name": "stdout",
     "output_type": "stream",
     "text": [
      "=======================================================\n"
     ]
    }
   ],
   "source": [
    "from sklearn.model_selection import train_test_split\n",
    "\n",
    "M = np.genfromtxt('./SomervilleHappiness.csv', missing_values=0, skip_header=1, delimiter=',', dtype=int, encoding='utf16')\n",
    "\n",
    "y_data = M[:, 0]\n",
    "y_trn, y_tst = train_test_split(y_data, test_size=0.3, random_state=42)\n",
    "x_data = M[:, 1:6]\n",
    "x_trn, x_tst = train_test_split(x_data, test_size=0.3, random_state=42)\n",
    "\n",
    "for depth in [1,3,5]:\n",
    "    print(\"Confusion Matrix for SomerVilleHappiness Survey 2015 dataset with depth \", depth)\n",
    "\n",
    "    decision_tree = id3(x_trn, y_trn, max_depth=depth)\n",
    "    \n",
    "    dot_str = to_graphviz(decision_tree)\n",
    "    file_name = './SomervilleHappiness_depth_' + str(depth)\n",
    "    render_dot_file(dot_str, file_name)\n",
    "    \n",
    "    y_pred = [predict_example(x, decision_tree) for x in x_tst]\n",
    "    \n",
    "    cm = confusion_matrix(y_tst, y_pred, labels=[0, 1])\n",
    "    print(cm)\n",
    "    plot_conf_matrix(cm)\n",
    "    \n",
    "    print(\"=======================================================\")"
   ]
  },
  {
   "cell_type": "code",
   "execution_count": 234,
   "metadata": {},
   "outputs": [
    {
     "name": "stdout",
     "output_type": "stream",
     "text": [
      "Confusion Matrix for SomervilleHappiness Survey 2015 dataset with depth  1\n",
      "[[ 0 24]\n",
      " [ 2 17]]\n"
     ]
    },
    {
     "data": {
      "image/png": "[encoded data removed]",
      "text/plain": [
       "<Figure size 432x288 with 2 Axes>"
      ]
     },
     "metadata": {
      "needs_background": "light"
     },
     "output_type": "display_data"
    },
    {
     "name": "stdout",
     "output_type": "stream",
     "text": [
      "=======================================================\n",
      "Confusion Matrix for SomervilleHappiness Survey 2015 dataset with depth  3\n",
      "[[ 3 21]\n",
      " [ 4 15]]\n"
     ]
    },
    {
     "data": {
      "image/png": "[encoded data removed]",
      "text/plain": [
       "<Figure size 432x288 with 2 Axes>"
      ]
     },
     "metadata": {
      "needs_background": "light"
     },
     "output_type": "display_data"
    },
    {
     "name": "stdout",
     "output_type": "stream",
     "text": [
      "=======================================================\n",
      "Confusion Matrix for SomervilleHappiness Survey 2015 dataset with depth  5\n",
      "[[ 7 17]\n",
      " [ 5 14]]\n"
     ]
    },
    {
     "data": {
      "image/png": "[encoded data removed]",
      "text/plain": [
       "<Figure size 432x288 with 2 Axes>"
      ]
     },
     "metadata": {
      "needs_background": "light"
     },
     "output_type": "display_data"
    },
    {
     "name": "stdout",
     "output_type": "stream",
     "text": [
      "=======================================================\n"
     ]
    }
   ],
   "source": [
    "for depth in [1,3,5]:\n",
    "    print(\"Confusion Matrix for SomervilleHappiness Survey 2015 dataset with depth \", depth)\n",
    "    \n",
    "    sk_tree = DecisionTreeClassifier(criterion=\"entropy\", splitter=\"best\", max_depth=depth)\n",
    "    \n",
    "    sk_tree = sk_tree.fit(x_trn, y_trn)\n",
    "    file = './sk_tree' + str(depth)\n",
    "    render_dot_file(export_graphviz(sk_tree), file)\n",
    "    \n",
    "    sk_y_pred = [sk_tree.predict(x.reshape(1, -1)) for x in x_tst]\n",
    "    \n",
    "    cm2 = confusion_matrix(y_tst, sk_y_pred)\n",
    "    print(cm2)\n",
    "    \n",
    "    plot_conf_matrix(cm2)\n",
    "    print(\"=======================================================\")"
   ]
  },
  {
   "cell_type": "code",
   "execution_count": null,
   "metadata": {},
   "outputs": [],
   "source": []
  }
 ],
 "metadata": {
  "kernelspec": {
   "display_name": "Python 3",
   "language": "python",
   "name": "python3"
  },
  "language_info": {
   "codemirror_mode": {
    "name": "ipython",
    "version": 3
   },
   "file_extension": ".py",
   "mimetype": "text/x-python",
   "name": "python",
   "nbconvert_exporter": "python",
   "pygments_lexer": "ipython3",
   "version": "3.7.4"
  }
 },
 "nbformat": 4,
 "nbformat_minor": 4
}
